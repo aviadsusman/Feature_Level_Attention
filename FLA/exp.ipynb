{
 "cells": [
  {
   "cell_type": "code",
   "execution_count": 2,
   "metadata": {},
   "outputs": [],
   "source": [
    "import torch\n",
    "import torch.nn as nn\n",
    "import torch.nn.functional as F"
   ]
  },
  {
   "cell_type": "code",
   "execution_count": 65,
   "metadata": {},
   "outputs": [
    {
     "name": "stdout",
     "output_type": "stream",
     "text": [
      "torch.Size([5])\n",
      "torch.Size([5])\n",
      "torch.Size([1, 5])\n",
      "torch.Size([5, 1])\n",
      "tensor([[2., 7., 0., 1., 8.]])\n",
      "tensor([[2.],\n",
      "        [7.],\n",
      "        [9.],\n",
      "        [1.],\n",
      "        [9.]])\n"
     ]
    },
    {
     "data": {
      "text/plain": [
       "tensor([[0., 5., 2., 1., 6.],\n",
       "        [5., 0., 7., 6., 1.],\n",
       "        [7., 2., 9., 8., 1.],\n",
       "        [1., 6., 1., 0., 7.],\n",
       "        [7., 2., 9., 8., 1.]])"
      ]
     },
     "execution_count": 65,
     "metadata": {},
     "output_type": "execute_result"
    }
   ],
   "source": [
    "epsilon = 1e-8\n",
    "x = torch.randint(0,10,(5,), dtype=torch.float32)\n",
    "y = torch.randint(0,10,(5,), dtype=torch.float32)\n",
    "print(x.shape)\n",
    "print(y.shape)\n",
    "x = x.unsqueeze(0)\n",
    "y = y.unsqueeze(1)\n",
    "print(x.shape)\n",
    "print(y.shape)\n",
    "print(x)\n",
    "print(y)\n",
    "diff_matrix = torch.abs(x - y)\n",
    "diff_matrix\n",
    "# sim_matrix = 1.0 / diff_matrix\n",
    "\n",
    "# sim_matrix = F.softmax(sim_matrix, dim=-1) / torch.sqrt(torch.tensor(y.shape[1]))"
   ]
  },
  {
   "cell_type": "code",
   "execution_count": 44,
   "metadata": {},
   "outputs": [
    {
     "data": {
      "text/plain": [
       "tensor([[[1.0000e+00, 2.0000e-01, 1.0000e+00, 5.0000e-01, 5.0000e-01],\n",
       "         [1.6667e-01, 5.0000e-01, 1.6667e-01, 2.0000e-01, 2.0000e-01],\n",
       "         [1.0000e+00, 2.0000e-01, 1.0000e+00, 5.0000e-01, 5.0000e-01],\n",
       "         [1.0000e+08, 2.5000e-01, 1.0000e+08, 1.0000e+00, 1.0000e+00],\n",
       "         [1.0000e+00, 2.0000e-01, 1.0000e+00, 5.0000e-01, 5.0000e-01]]])"
      ]
     },
     "execution_count": 44,
     "metadata": {},
     "output_type": "execute_result"
    }
   ],
   "source": [
    "diff_matrix += epsilon\n",
    "sim_matrix = 1.0 / diff_matrix\n",
    "sim_matrix"
   ]
  },
  {
   "cell_type": "code",
   "execution_count": 57,
   "metadata": {},
   "outputs": [
    {
     "data": {
      "text/plain": [
       "int"
      ]
     },
     "execution_count": 57,
     "metadata": {},
     "output_type": "execute_result"
    }
   ],
   "source": [
    "sim_matrix = F.softmax(sim_matrix, dim=-1)# / torch.sqrt(torch.tensor(y.shape[1]))\n",
    "type(sim_matrix.size(-1))"
   ]
  },
  {
   "cell_type": "code",
   "execution_count": 174,
   "metadata": {},
   "outputs": [
    {
     "name": "stdout",
     "output_type": "stream",
     "text": [
      "torch.Size([5, 3, 1])\n",
      "torch.Size([1, 2])\n"
     ]
    },
    {
     "data": {
      "text/plain": [
       "(tensor([[[33,  9],\n",
       "          [ 9,  9],\n",
       "          [33,  9]]]),\n",
       " torch.Size([1, 3, 2]),\n",
       " tensor([[[65, 65]],\n",
       " \n",
       "         [[23, 17]],\n",
       " \n",
       "         [[65, 65]]]),\n",
       " torch.Size([3, 1, 2]),\n",
       " tensor([[[-32, -56],\n",
       "          [-56, -56],\n",
       "          [-32, -56]],\n",
       " \n",
       "         [[ 10,  -8],\n",
       "          [-14,  -8],\n",
       "          [ 10,  -8]],\n",
       " \n",
       "         [[-32, -56],\n",
       "          [-56, -56],\n",
       "          [-32, -56]]]),\n",
       " torch.Size([3, 3, 2]))"
      ]
     },
     "execution_count": 174,
     "metadata": {},
     "output_type": "execute_result"
    }
   ],
   "source": [
    "num_heads = 2\n",
    "dim = 3\n",
    "bsz = 5\n",
    "alphaq = torch.randint(10,(1,num_heads))\n",
    "betaq = torch.randint(10,(1,num_heads))\n",
    "alphak = torch.randint(10,(1,num_heads))\n",
    "betak = torch.randint(10,(1,num_heads))\n",
    "x = torch.randint(10,(bsz,dim,1))\n",
    "print(x.shape)\n",
    "print(alphaq.shape)\n",
    "q = (x@alphaq + torch.ones((dim,1),dtype=torch.int64)@betaq).unsqueeze(1)\n",
    "k = (x@alphak + torch.ones((dim,1), dtype=torch.int64)@betak).unsqueeze(2)\n",
    "q[0], q[0].size(), k[0], k[0].size(), (q-k)[0], ((q-k)[0]).size()"
   ]
  },
  {
   "cell_type": "code",
   "execution_count": 172,
   "metadata": {},
   "outputs": [
    {
     "data": {
      "text/plain": [
       "tensor([[ 35, -10,  -1],\n",
       "        [ 65,  20,  29],\n",
       "        [ 59,  14,  23]])"
      ]
     },
     "execution_count": 172,
     "metadata": {},
     "output_type": "execute_result"
    }
   ],
   "source": [
    "(q-k)[0][:,:,0]"
   ]
  },
  {
   "cell_type": "code",
   "execution_count": 115,
   "metadata": {},
   "outputs": [
    {
     "data": {
      "text/plain": [
       "torch.Size([3, 2])"
      ]
     },
     "execution_count": 115,
     "metadata": {},
     "output_type": "execute_result"
    }
   ],
   "source": [
    "h=2\n",
    "a_q = nn.Parameter(torch.Tensor(1,h))\n",
    "x = torch.rand((3,1))\n",
    "(x@a_q).size()"
   ]
  },
  {
   "cell_type": "code",
   "execution_count": 20,
   "metadata": {},
   "outputs": [
    {
     "name": "stdout",
     "output_type": "stream",
     "text": [
      "tensor([[ 4., 24., 47.],\n",
      "        [99.,  6., 57.],\n",
      "        [31., 58., 35.]])\n",
      "tensor([[2.1151e-19, 1.0262e-10, 1.0000e+00],\n",
      "        [1.0000e+00, 4.0796e-41, 5.7495e-19],\n",
      "        [1.8795e-12, 1.0000e+00, 1.0262e-10]])\n"
     ]
    }
   ],
   "source": [
    "similarity = torch.randint(100,(10,3,3,2), dtype=torch.float32)\n",
    "print(similarity[0][:,:,0])\n",
    "similarity=F.softmax(similarity, dim=-2)\n",
    "print(similarity[0][:,:,0])"
   ]
  },
  {
   "cell_type": "code",
   "execution_count": 15,
   "metadata": {},
   "outputs": [
    {
     "name": "stdout",
     "output_type": "stream",
     "text": [
      "tensor([6, 1, 0])\n"
     ]
    }
   ],
   "source": [
    "print(v[0][:,0])"
   ]
  },
  {
   "cell_type": "code",
   "execution_count": null,
   "metadata": {},
   "outputs": [],
   "source": []
  }
 ],
 "metadata": {
  "kernelspec": {
   "display_name": "Python 3",
   "language": "python",
   "name": "python3"
  },
  "language_info": {
   "codemirror_mode": {
    "name": "ipython",
    "version": 3
   },
   "file_extension": ".py",
   "mimetype": "text/x-python",
   "name": "python",
   "nbconvert_exporter": "python",
   "pygments_lexer": "ipython3",
   "version": "3.12.4"
  }
 },
 "nbformat": 4,
 "nbformat_minor": 2
}
