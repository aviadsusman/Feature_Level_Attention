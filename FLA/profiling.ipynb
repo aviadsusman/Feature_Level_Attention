{
 "cells": [
  {
   "cell_type": "code",
   "execution_count": 1,
   "metadata": {},
   "outputs": [],
   "source": [
    "import torch.nn as nn\n",
    "from torch.utils.data import DataLoader\n",
    "from torch.profiler import profile, record_function, ProfilerActivity\n",
    "from utils import *\n",
    "from fla_optimized import FLANN, npDataset"
   ]
  },
  {
   "cell_type": "code",
   "execution_count": 2,
   "metadata": {},
   "outputs": [
    {
     "name": "stdout",
     "output_type": "stream",
     "text": [
      "236.703125\n"
     ]
    }
   ],
   "source": [
    "X,y,weight = diabetes_data()\n",
    "X,y = torch.tensor(X, dtype=torch.float32), torch.tensor(y, dtype=torch.float32)\n",
    "hidden_dims = [50,25,10]\n",
    "attn_heads = 20\n",
    "model = FLANN(input_dim=108, hidden_dims=hidden_dims, output_dim=1, attn_heads=attn_heads, activation=nn.ReLU)\n",
    "criterion = nn.BCEWithLogitsLoss(pos_weight=weight)\n",
    "optimizer = torch.optim.Adam(model.parameters(), lr=0.001)\n",
    "print(X.shape[0]/64)"
   ]
  },
  {
   "cell_type": "code",
   "execution_count": 3,
   "metadata": {},
   "outputs": [
    {
     "name": "stderr",
     "output_type": "stream",
     "text": [
      "STAGE:2024-07-23 14:19:41 70719:13408693 ActivityProfilerController.cpp:314] Completed Stage: Warm Up\n",
      "STAGE:2024-07-23 14:19:41 70719:13408693 ActivityProfilerController.cpp:320] Completed Stage: Collection\n",
      "STAGE:2024-07-23 14:19:41 70719:13408693 ActivityProfilerController.cpp:324] Completed Stage: Post Processing\n"
     ]
    }
   ],
   "source": [
    "with profile(activities=[ProfilerActivity.CPU], record_shapes=True) as prof:\n",
    "    with record_function(\"back\"):\n",
    "        # model(X[:64])\n",
    "        loss = criterion(model(X[:64]), y[:64].unsqueeze(1)).backward()        "
   ]
  },
  {
   "cell_type": "code",
   "execution_count": 4,
   "metadata": {},
   "outputs": [
    {
     "name": "stdout",
     "output_type": "stream",
     "text": [
      "-------------------------------------------------------  ------------  ------------  ------------  ------------  ------------  ------------  ------------------------------------------------------------------  \n",
      "                                                   Name    Self CPU %      Self CPU   CPU total %     CPU total  CPU time avg    # of Calls                                                        Input Shapes  \n",
      "-------------------------------------------------------  ------------  ------------  ------------  ------------  ------------  ------------  ------------------------------------------------------------------  \n",
      "                                                   back        12.60%      15.239ms       100.00%     120.947ms     120.947ms             1                                                                  []  \n",
      "                                          aten::softmax         0.01%       9.000us         6.67%       8.072ms       8.072ms             1                                        [[64, 108, 108, 20], [], []]  \n",
      "                                         aten::_softmax         6.67%       8.063ms         6.67%       8.063ms       8.063ms             1                                        [[64, 108, 108, 20], [], []]  \n",
      "                                    ReciprocalBackward0         1.29%       1.558ms         6.46%       7.809ms       7.809ms             1                                                [[64, 108, 108, 20]]  \n",
      "                                           MulBackward0         0.01%      10.000us         5.85%       7.071ms       7.071ms             1                                                [[64, 108, 108, 20]]  \n",
      "                                              aten::abs         0.02%      28.000us         5.52%       6.675ms       6.675ms             1                                                [[64, 108, 108, 20]]  \n",
      "                                              aten::abs         5.49%       6.645ms         5.49%       6.645ms       6.645ms             1                                           [[64, 108, 108, 20], [0]]  \n",
      "                                              aten::sub         5.09%       6.159ms         5.09%       6.159ms       6.159ms             1                            [[64, 1, 108, 20], [64, 108, 1, 20], []]  \n",
      "                                           AbsBackward0         0.91%       1.097ms         4.55%       5.509ms       5.509ms             1                                                [[64, 108, 108, 20]]  \n",
      "                                       aten::reciprocal         4.36%       5.278ms         4.36%       5.278ms       5.278ms             1                                                [[64, 108, 108, 20]]  \n",
      "autograd::engine::evaluate_function: ReciprocalBackw...         1.12%       1.359ms         9.20%      11.129ms       3.710ms             3                                                                  []  \n",
      "                                              aten::mul         6.10%       7.381ms         6.10%       7.381ms       3.691ms             2                                          [[64, 108, 108, 20], [20]]  \n",
      "      autograd::engine::evaluate_function: MulBackward0         2.14%       2.594ms        17.43%      21.083ms       3.514ms             6                                                                  []  \n",
      "                                              aten::div         4.69%       5.676ms         4.69%       5.676ms       2.838ms             2                                            [[64, 108, 108, 20], []]  \n",
      "      autograd::engine::evaluate_function: AbsBackward0         1.21%       1.464ms         6.79%       8.208ms       2.736ms             3                                                                  []  \n",
      "                                       SoftmaxBackward0         0.01%       8.000us         2.10%       2.538ms       2.538ms             1                                                [[64, 108, 108, 20]]  \n",
      "                           aten::_softmax_backward_data         2.09%       2.530ms         2.09%       2.530ms       2.530ms             1                    [[64, 108, 108, 20], [64, 108, 108, 20], [], []]  \n",
      "      autograd::engine::evaluate_function: SubBackward0         1.99%       2.407ms         6.09%       7.360ms       2.453ms             3                                                                  []  \n",
      "                                              aten::sum         8.62%      10.423ms         9.00%      10.890ms       2.178ms             5                                    [[64, 108, 108, 20], [], [], []]  \n",
      "                                              aten::mul         7.04%       8.513ms         7.04%       8.513ms       2.128ms             4                            [[64, 108, 108, 20], [64, 108, 108, 20]]  \n",
      "                                              aten::sgn         1.64%       1.981ms         1.64%       1.981ms       1.981ms             1                                                [[64, 108, 108, 20]]  \n",
      "                                              aten::neg         3.08%       3.727ms         3.08%       3.727ms       1.863ms             2                                                [[64, 108, 108, 20]]  \n",
      "                                           MulBackward0         0.01%       7.000us         1.49%       1.803ms       1.803ms             1                                                  [[64, 50, 50, 20]]  \n",
      "                                           SubBackward0         0.01%       8.000us         1.49%       1.803ms       1.803ms             1                                                [[64, 108, 108, 20]]  \n",
      "autograd::engine::evaluate_function: SoftmaxBackward...         1.53%       1.849ms         4.41%       5.328ms       1.776ms             3                                                                  []  \n",
      "                                              aten::add         1.42%       1.712ms         1.42%       1.712ms       1.712ms             1                        [[64, 108, 108, 20], [64, 108, 108, 20], []]  \n",
      "                                           DivBackward0         0.00%       3.000us         1.31%       1.585ms       1.585ms             1                                                [[64, 108, 108, 20]]  \n",
      "                                          aten::softmax         0.00%       3.000us         1.30%       1.578ms       1.578ms             1                                          [[64, 50, 50, 20], [], []]  \n",
      "                                         aten::_softmax         1.30%       1.575ms         1.30%       1.575ms       1.575ms             1                                          [[64, 50, 50, 20], [], []]  \n",
      "                                    ReciprocalBackward0         0.18%     219.000us         1.12%       1.349ms       1.349ms             1                                                  [[64, 50, 50, 20]]  \n",
      "                                             aten::add_         0.90%       1.093ms         0.94%       1.131ms       1.131ms             1                                        [[64, 108, 108, 20], [], []]  \n",
      "                                           AbsBackward0         0.16%     191.000us         0.84%       1.016ms       1.016ms             1                                                  [[64, 50, 50, 20]]  \n",
      "      autograd::engine::evaluate_function: DivBackward0         0.45%     541.000us         2.32%       2.811ms     937.000us             3                                                                  []  \n",
      "                                              aten::mul         1.43%       1.725ms         1.43%       1.725ms     862.500us             2                                            [[64, 50, 50, 20], [20]]  \n",
      "                                              aten::div         1.39%       1.687ms         1.39%       1.687ms     843.500us             2                                              [[64, 50, 50, 20], []]  \n",
      "                                           MulBackward0         0.01%       8.000us         0.62%     755.000us     755.000us             1                                                  [[64, 25, 25, 20]]  \n",
      "                                          aten::softmax         0.00%       3.000us         0.52%     628.000us     628.000us             1                                          [[64, 25, 25, 20], [], []]  \n",
      "                                         aten::_softmax         0.52%     625.000us         0.52%     625.000us     625.000us             1                                          [[64, 25, 25, 20], [], []]  \n",
      "                                    ReciprocalBackward0         0.03%      39.000us         0.51%     612.000us     612.000us             1                                                  [[64, 25, 25, 20]]  \n",
      "                                       SoftmaxBackward0         0.00%       5.000us         0.46%     560.000us     560.000us             1                                                  [[64, 50, 50, 20]]  \n",
      "                           aten::_softmax_backward_data         0.46%     555.000us         0.46%     555.000us     555.000us             1                        [[64, 50, 50, 20], [64, 50, 50, 20], [], []]  \n",
      "                                           BmmBackward0         0.00%       3.000us         0.42%     507.000us     507.000us             1                                                      [[64, 108, 1]]  \n",
      "                                              aten::bmm         0.40%     485.000us         0.42%     503.000us     503.000us             1                                        [[64, 108, 1], [64, 1, 108]]  \n",
      "                                           BmmBackward0         0.00%       3.000us         0.38%     458.000us     458.000us             1                                                       [[64, 50, 1]]  \n",
      "      autograd::engine::evaluate_function: BmmBackward0         0.01%       8.000us         1.11%       1.345ms     448.333us             3                                                                  []  \n",
      "                                              aten::sub         0.34%     414.000us         0.34%     414.000us     414.000us             1                              [[64, 1, 25, 20], [64, 25, 1, 20], []]  \n",
      "                                              aten::mul         1.33%       1.610ms         1.33%       1.610ms     402.500us             4                                [[64, 50, 50, 20], [64, 50, 50, 20]]  \n",
      "                                              aten::sum         1.53%       1.852ms         1.66%       2.011ms     402.200us             5                                      [[64, 50, 50, 20], [], [], []]  \n",
      "                                              aten::add         0.32%     388.000us         0.32%     388.000us     388.000us             1                            [[64, 50, 50, 20], [64, 50, 50, 20], []]  \n",
      "                                       SoftmaxBackward0         0.01%      11.000us         0.32%     381.000us     381.000us             1                                                  [[64, 25, 25, 20]]  \n",
      "                                              aten::mul         0.62%     753.000us         0.62%     753.000us     376.500us             2                                            [[64, 25, 25, 20], [20]]  \n",
      "                                           BmmBackward0         0.00%       3.000us         0.31%     372.000us     372.000us             1                                                       [[64, 25, 1]]  \n",
      "                           aten::_softmax_backward_data         0.31%     370.000us         0.31%     370.000us     370.000us             1                        [[64, 25, 25, 20], [64, 25, 25, 20], [], []]  \n",
      "                                              aten::abs         0.01%      13.000us         0.30%     363.000us     363.000us             1                                                  [[64, 25, 25, 20]]  \n",
      "                                       aten::reciprocal         0.29%     354.000us         0.29%     354.000us     354.000us             1                                                  [[64, 50, 50, 20]]  \n",
      "                                              aten::sgn         0.29%     353.000us         0.29%     353.000us     353.000us             1                                                  [[64, 50, 50, 20]]  \n",
      "                                           DivBackward0         0.00%       4.000us         0.29%     351.000us     351.000us             1                                                  [[64, 25, 25, 20]]  \n",
      "                                              aten::abs         0.00%       3.000us         0.29%     349.000us     349.000us             1                                                  [[64, 50, 50, 20]]  \n",
      "                                              aten::abs         0.29%     348.000us         0.29%     348.000us     348.000us             1                                             [[64, 25, 25, 20], [0]]  \n",
      "                                              aten::div         0.57%     693.000us         0.57%     693.000us     346.500us             2                                              [[64, 25, 25, 20], []]  \n",
      "                                              aten::abs         0.29%     346.000us         0.29%     346.000us     346.000us             1                                             [[64, 50, 50, 20], [0]]  \n",
      "                                           SubBackward0         0.00%       6.000us         0.28%     339.000us     339.000us             1                                                  [[64, 50, 50, 20]]  \n",
      "                                              aten::neg         0.56%     673.000us         0.56%     673.000us     336.500us             2                                                  [[64, 50, 50, 20]]  \n",
      "                                           DivBackward0         0.00%       3.000us         0.28%     334.000us     334.000us             1                                                  [[64, 50, 50, 20]]  \n",
      "                                            aten::fill_         0.25%     302.000us         0.25%     302.000us     302.000us             1                                             [[64, 108, 108, 1], []]  \n",
      "                                              aten::sub         0.24%     294.000us         0.24%     294.000us     294.000us             1                              [[64, 1, 50, 20], [64, 50, 1, 20], []]  \n",
      "                                       aten::reciprocal         0.22%     268.000us         0.22%     268.000us     268.000us             1                                                  [[64, 25, 25, 20]]  \n",
      "                                              aten::bmm         0.20%     247.000us         0.22%     265.000us     265.000us             1                                      [[64, 108, 108], [64, 108, 1]]  \n",
      "                                              aten::bmm         0.19%     232.000us         0.20%     238.000us     238.000us             1                                          [[64, 50, 1], [64, 1, 50]]  \n",
      "                                           aten::matmul         0.02%      24.000us         0.38%     457.000us     228.500us             2                                             [[64, 108, 1], [1, 20]]  \n",
      "                                              aten::mul         0.74%     894.000us         0.74%     894.000us     223.500us             4                                [[64, 25, 25, 20], [64, 25, 25, 20]]  \n",
      "                                           AbsBackward0         0.01%      15.000us         0.18%     219.000us     219.000us             1                                                  [[64, 25, 25, 20]]  \n",
      "                                              aten::bmm         0.31%     379.000us         0.36%     432.000us     216.000us             2                                         [[64, 25, 25], [64, 25, 1]]  \n",
      "                                              aten::bmm         0.31%     377.000us         0.33%     399.000us     199.500us             2                                         [[64, 50, 50], [64, 50, 1]]  \n",
      "                                              aten::bmm         0.14%     172.000us         0.15%     177.000us     177.000us             1                                          [[64, 25, 1], [64, 1, 25]]  \n",
      "                                             aten::add_         0.11%     137.000us         0.12%     144.000us     144.000us             1                                          [[64, 50, 50, 20], [], []]  \n",
      "                                              aten::add         0.11%     127.000us         0.11%     127.000us     127.000us             1                            [[64, 25, 25, 20], [64, 25, 25, 20], []]  \n",
      "                                              aten::sum         0.50%     610.000us         0.52%     627.000us     125.400us             5                                      [[64, 25, 25, 20], [], [], []]  \n",
      "                                              aten::add         0.09%     113.000us         0.09%     113.000us     113.000us             1                                      [[64, 108, 20], [108, 20], []]  \n",
      "                                       aten::layer_norm         0.00%       5.000us         0.09%     113.000us     113.000us             1                               [[64, 108], [], [108], [108], [], []]  \n",
      "                                               aten::mm         0.18%     214.000us         0.18%     216.000us     108.000us             2                                                [[6912, 1], [1, 20]]  \n",
      "                                aten::native_layer_norm         0.07%      88.000us         0.09%     108.000us     108.000us             1                                   [[64, 108], [], [108], [108], []]  \n",
      "                                          aten::reshape         0.03%      42.000us         0.18%     214.000us     107.000us             2                                                  [[64, 108, 1], []]  \n",
      "                                              aten::sgn         0.09%     107.000us         0.09%     107.000us     107.000us             1                                                  [[64, 25, 25, 20]]  \n",
      "                                              aten::neg         0.15%     186.000us         0.15%     186.000us      93.000us             2                                                  [[64, 25, 25, 20]]  \n",
      "                                           SubBackward0         0.00%       1.000us         0.07%      87.000us      87.000us             1                                                  [[64, 25, 25, 20]]  \n",
      "                 aten::binary_cross_entropy_with_logits         0.02%      28.000us         0.06%      78.000us      78.000us             1                                     [[64, 1], [64, 1], [], [1], []]  \n",
      "autograd::engine::evaluate_function: BinaryCrossEntr...         0.01%      11.000us         0.06%      77.000us      77.000us             1                                                                  []  \n",
      "                                            MmBackward0         0.01%      16.000us         0.12%     150.000us      75.000us             2                                                        [[3200, 20]]  \n",
      "                                           MulBackward0         0.03%      32.000us         0.06%      69.000us      69.000us             1                                                     [[64, 108, 20]]  \n",
      "                                            aten::fill_         0.06%      68.000us         0.06%      68.000us      68.000us             1                                              [[64, 1, 108, 20], []]  \n",
      "                  BinaryCrossEntropyWithLogitsBackward0         0.01%      18.000us         0.05%      66.000us      66.000us             1                                                                [[]]  \n",
      "                               NativeLayerNormBackward0         0.00%       4.000us         0.05%      65.000us      65.000us             1                                                          [[64, 10]]  \n",
      "                               NativeLayerNormBackward0         0.00%       5.000us         0.11%     127.000us      63.500us             2                                                          [[64, 25]]  \n",
      "autograd::engine::evaluate_function: NativeLayerNorm...         0.02%      24.000us         0.31%     380.000us      63.333us             6                                                                  []  \n",
      "                                              aten::mul         0.10%     126.000us         0.10%     126.000us      63.000us             2                                            [[64, 108, 20], [1, 20]]  \n",
      "                       aten::native_layer_norm_backward         0.05%      59.000us         0.05%      61.000us      61.000us             1          [[64, 10], [64, 10], [], [64, 1], [64, 1], [10], [10], []]  \n",
      "                       aten::native_layer_norm_backward         0.10%     119.000us         0.10%     122.000us      61.000us             2          [[64, 25], [64, 25], [], [64, 1], [64, 1], [25], [25], []]  \n",
      "                                            aten::fill_         0.05%      59.000us         0.05%      59.000us      59.000us             1                                               [[64, 1, 50, 20], []]  \n",
      "                               NativeLayerNormBackward0         0.00%       2.000us         0.05%      58.000us      58.000us             1                                                         [[64, 108]]  \n",
      "-------------------------------------------------------  ------------  ------------  ------------  ------------  ------------  ------------  ------------------------------------------------------------------  \n",
      "Self CPU time total: 120.947ms\n",
      "\n"
     ]
    }
   ],
   "source": [
    "print(prof.key_averages(group_by_input_shape=True).table(sort_by=\"cpu_time\"))"
   ]
  },
  {
   "cell_type": "code",
   "execution_count": null,
   "metadata": {},
   "outputs": [],
   "source": []
  }
 ],
 "metadata": {
  "kernelspec": {
   "display_name": ".venv",
   "language": "python",
   "name": "python3"
  },
  "language_info": {
   "codemirror_mode": {
    "name": "ipython",
    "version": 3
   },
   "file_extension": ".py",
   "mimetype": "text/x-python",
   "name": "python",
   "nbconvert_exporter": "python",
   "pygments_lexer": "ipython3",
   "version": "3.12.4"
  }
 },
 "nbformat": 4,
 "nbformat_minor": 2
}
